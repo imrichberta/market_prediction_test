{
 "cells": [
  {
   "cell_type": "code",
   "execution_count": 1,
   "metadata": {},
   "outputs": [],
   "source": [
    "import pandas as pd\n",
    "import numpy as np\n",
    "import matplotlib.pyplot as plt\n",
    "pd.set_option('display.max_columns', None)\n",
    "import math\n",
    "import pycatch22"
   ]
  },
  {
   "cell_type": "code",
   "execution_count": 2,
   "metadata": {},
   "outputs": [],
   "source": [
    "data=pd.read_csv('./data/EURUSD_M1.csv',sep='\\t')\n",
    "data.loc[:,'Time']=pd.to_datetime(data.Time)"
   ]
  },
  {
   "cell_type": "code",
   "execution_count": 3,
   "metadata": {},
   "outputs": [],
   "source": [
    "data.loc[:,'date_day']=data.Time.dt.to_period('D')"
   ]
  },
  {
   "cell_type": "code",
   "execution_count": 4,
   "metadata": {},
   "outputs": [],
   "source": [
    "N_x=60\n",
    "N_y=10"
   ]
  },
  {
   "cell_type": "code",
   "execution_count": 5,
   "metadata": {},
   "outputs": [],
   "source": [
    "data.loc[:,'ID']=np.arange(data.shape[0])"
   ]
  },
  {
   "cell_type": "code",
   "execution_count": 6,
   "metadata": {},
   "outputs": [],
   "source": [
    "for day in data.date_day.unique():\n",
    "    data.loc[data.date_day==day,'ID_day']=np.arange(sum(data.date_day==day))"
   ]
  },
  {
   "cell_type": "code",
   "execution_count": 7,
   "metadata": {},
   "outputs": [],
   "source": [
    "day='2022-06-10'\n",
    "n=0\n",
    "colnames=pycatch22.catch22_all(data.loc[(data.date_day==day)&data.ID.between(n,n+N_x+N_y-1),'Open'],catch24=True)['names']"
   ]
  },
  {
   "cell_type": "code",
   "execution_count": null,
   "metadata": {},
   "outputs": [],
   "source": []
  },
  {
   "cell_type": "code",
   "execution_count": 8,
   "metadata": {},
   "outputs": [
    {
     "data": {
      "text/html": [
       "<div>\n",
       "<style scoped>\n",
       "    .dataframe tbody tr th:only-of-type {\n",
       "        vertical-align: middle;\n",
       "    }\n",
       "\n",
       "    .dataframe tbody tr th {\n",
       "        vertical-align: top;\n",
       "    }\n",
       "\n",
       "    .dataframe thead th {\n",
       "        text-align: right;\n",
       "    }\n",
       "</style>\n",
       "<table border=\"1\" class=\"dataframe\">\n",
       "  <thead>\n",
       "    <tr style=\"text-align: right;\">\n",
       "      <th></th>\n",
       "      <th>Time</th>\n",
       "      <th>Open</th>\n",
       "      <th>High</th>\n",
       "      <th>Low</th>\n",
       "      <th>Close</th>\n",
       "      <th>Volume</th>\n",
       "      <th>date_day</th>\n",
       "      <th>ID</th>\n",
       "      <th>ID_day</th>\n",
       "    </tr>\n",
       "  </thead>\n",
       "  <tbody>\n",
       "    <tr>\n",
       "      <th>0</th>\n",
       "      <td>2022-06-10 00:30:00</td>\n",
       "      <td>1.06220</td>\n",
       "      <td>1.06223</td>\n",
       "      <td>1.06205</td>\n",
       "      <td>1.06213</td>\n",
       "      <td>145</td>\n",
       "      <td>2022-06-10</td>\n",
       "      <td>0</td>\n",
       "      <td>0.0</td>\n",
       "    </tr>\n",
       "    <tr>\n",
       "      <th>1</th>\n",
       "      <td>2022-06-10 00:31:00</td>\n",
       "      <td>1.06212</td>\n",
       "      <td>1.06225</td>\n",
       "      <td>1.06211</td>\n",
       "      <td>1.06223</td>\n",
       "      <td>125</td>\n",
       "      <td>2022-06-10</td>\n",
       "      <td>1</td>\n",
       "      <td>1.0</td>\n",
       "    </tr>\n",
       "    <tr>\n",
       "      <th>2</th>\n",
       "      <td>2022-06-10 00:32:00</td>\n",
       "      <td>1.06222</td>\n",
       "      <td>1.06237</td>\n",
       "      <td>1.06222</td>\n",
       "      <td>1.06230</td>\n",
       "      <td>97</td>\n",
       "      <td>2022-06-10</td>\n",
       "      <td>2</td>\n",
       "      <td>2.0</td>\n",
       "    </tr>\n",
       "    <tr>\n",
       "      <th>3</th>\n",
       "      <td>2022-06-10 00:33:00</td>\n",
       "      <td>1.06231</td>\n",
       "      <td>1.06231</td>\n",
       "      <td>1.06218</td>\n",
       "      <td>1.06231</td>\n",
       "      <td>44</td>\n",
       "      <td>2022-06-10</td>\n",
       "      <td>3</td>\n",
       "      <td>3.0</td>\n",
       "    </tr>\n",
       "    <tr>\n",
       "      <th>4</th>\n",
       "      <td>2022-06-10 00:34:00</td>\n",
       "      <td>1.06230</td>\n",
       "      <td>1.06236</td>\n",
       "      <td>1.06207</td>\n",
       "      <td>1.06213</td>\n",
       "      <td>95</td>\n",
       "      <td>2022-06-10</td>\n",
       "      <td>4</td>\n",
       "      <td>4.0</td>\n",
       "    </tr>\n",
       "  </tbody>\n",
       "</table>\n",
       "</div>"
      ],
      "text/plain": [
       "                 Time     Open     High      Low    Close  Volume    date_day  \\\n",
       "0 2022-06-10 00:30:00  1.06220  1.06223  1.06205  1.06213     145  2022-06-10   \n",
       "1 2022-06-10 00:31:00  1.06212  1.06225  1.06211  1.06223     125  2022-06-10   \n",
       "2 2022-06-10 00:32:00  1.06222  1.06237  1.06222  1.06230      97  2022-06-10   \n",
       "3 2022-06-10 00:33:00  1.06231  1.06231  1.06218  1.06231      44  2022-06-10   \n",
       "4 2022-06-10 00:34:00  1.06230  1.06236  1.06207  1.06213      95  2022-06-10   \n",
       "\n",
       "   ID  ID_day  \n",
       "0   0     0.0  \n",
       "1   1     1.0  \n",
       "2   2     2.0  \n",
       "3   3     3.0  \n",
       "4   4     4.0  "
      ]
     },
     "execution_count": 8,
     "metadata": {},
     "output_type": "execute_result"
    }
   ],
   "source": [
    "data.head()"
   ]
  },
  {
   "cell_type": "code",
   "execution_count": 9,
   "metadata": {},
   "outputs": [],
   "source": [
    "df_open=pd.DataFrame()\n",
    "df_high=pd.DataFrame()\n",
    "df_low=pd.DataFrame()\n",
    "df_close=pd.DataFrame()\n",
    "df_volume=pd.DataFrame()"
   ]
  },
  {
   "cell_type": "code",
   "execution_count": null,
   "metadata": {},
   "outputs": [
    {
     "name": "stdout",
     "output_type": "stream",
     "text": [
      "0\n",
      "10000\n",
      "20000\n",
      "30000\n",
      "40000\n",
      "50000\n"
     ]
    }
   ],
   "source": [
    "for n in range(0,100000):\n",
    "    if (n%10000==0):\n",
    "        print(n)\n",
    "    df_open.loc[n,colnames]=(pycatch22.catch22_all(data.loc[data.ID.between(n,n+N_x-1),'Open'],catch24=True))['values']\n",
    "    df_high.loc[n,colnames]=(pycatch22.catch22_all(data.loc[data.ID.between(n,n+N_x-1),'High'],catch24=True))['values']\n",
    "    df_low.loc[n,colnames]=(pycatch22.catch22_all(data.loc[data.ID.between(n,n+N_x-1),'Low'],catch24=True))['values']\n",
    "    df_close.loc[n,colnames]=(pycatch22.catch22_all(data.loc[data.ID.between(n,n+N_x-1),'Close'],catch24=True))['values']\n",
    "    df_volume.loc[n,colnames]=(pycatch22.catch22_all(data.loc[data.ID.between(n,n+N_x-1),'Volume'],catch24=True))['values']\n",
    "    \n",
    "df_all=pd.concat([df_open,df_high,df_low,df_close,df_volume],axis=1)"
   ]
  },
  {
   "cell_type": "code",
   "execution_count": null,
   "metadata": {},
   "outputs": [],
   "source": [
    "with open('./data/features.pickle', 'wb') as f:\n",
    "    pickle.dump(df_all, f)"
   ]
  },
  {
   "cell_type": "code",
   "execution_count": null,
   "metadata": {},
   "outputs": [],
   "source": [
    "df_open f"
   ]
  },
  {
   "cell_type": "code",
   "execution_count": null,
   "metadata": {},
   "outputs": [],
   "source": [
    "df_open.columns=['open_'+x for x in colnames]\n",
    "df_high.columns=['high_'+x for x in colnames]\n",
    "df_low.columns=['low_'+x for x in colnames]\n",
    "df_close.columns=['close_'+x for x in colnames]\n",
    "df_volume.columns=['volume_'+x for x in colnames]"
   ]
  },
  {
   "cell_type": "code",
   "execution_count": null,
   "metadata": {},
   "outputs": [],
   "source": [
    "for n in range(100000):\n",
    "    if (n%10000==0):\n",
    "        print(n)\n",
    "        \n",
    "    data.loc[n,'pred_open']=data.loc[data.ID==(n+N_x),'Open'].iloc[0]\n",
    "    data.loc[n,'pred_max']=data.loc[data.ID.between(n+N_x+1,n+N_x+N_y-1),'High'].max()\n",
    "    data.loc[n,'pred_min']=data.loc[data.ID.between(n+N_x+1,n+N_x+N_y-1),'Low'].min()\n",
    "    \n",
    "    data.loc[n,'same_day']=data.loc[data.ID.between(n,n+N_x+N_y-1),'date_day'].nunique()==1"
   ]
  },
  {
   "cell_type": "code",
   "execution_count": null,
   "metadata": {},
   "outputs": [],
   "source": [
    "data.loc[:,'gain']=(data.pred_max-data.pred_open)"
   ]
  },
  {
   "cell_type": "code",
   "execution_count": null,
   "metadata": {},
   "outputs": [],
   "source": []
  },
  {
   "cell_type": "code",
   "execution_count": null,
   "metadata": {},
   "outputs": [],
   "source": [
    "from sklearn.ensemble import RandomForestClassifier\n",
    "from sklearn.metrics import roc_auc_score"
   ]
  },
  {
   "cell_type": "markdown",
   "metadata": {},
   "source": [
    "#### CLASSIFICATION"
   ]
  },
  {
   "cell_type": "code",
   "execution_count": 236,
   "metadata": {},
   "outputs": [],
   "source": [
    "y=data.gain[0:5000][data.same_day[0:5000]]\n",
    "y=(y>0.001)*1"
   ]
  },
  {
   "cell_type": "code",
   "execution_count": 237,
   "metadata": {},
   "outputs": [],
   "source": [
    "x=pd.concat([df_open,df_high,df_low,df_close,df_volume],axis=1).loc[data.same_day[0:5000],:]"
   ]
  },
  {
   "cell_type": "code",
   "execution_count": 238,
   "metadata": {},
   "outputs": [],
   "source": [
    "\n",
    "\n",
    "X_train=x.iloc[:-1000] \n",
    "X_test=x.iloc[-1000:]\n",
    "y_train=y.iloc[:-1000] \n",
    "y_test=y.iloc[-1000:]"
   ]
  },
  {
   "cell_type": "code",
   "execution_count": 241,
   "metadata": {},
   "outputs": [],
   "source": [
    "clf=RandomForestClassifier(n_estimators=500,max_depth=30)\n",
    "clf.fit(X_train,y_train)\n",
    "y_pred=clf.predict_proba(X_test)[:, 1]"
   ]
  },
  {
   "cell_type": "code",
   "execution_count": 242,
   "metadata": {},
   "outputs": [
    {
     "data": {
      "text/plain": [
       "0.7294014604702208"
      ]
     },
     "execution_count": 242,
     "metadata": {},
     "output_type": "execute_result"
    }
   ],
   "source": [
    "roc_auc_score(y_test, y_pred)"
   ]
  },
  {
   "cell_type": "code",
   "execution_count": 243,
   "metadata": {},
   "outputs": [
    {
     "data": {
      "text/plain": [
       "0.43478260869565216"
      ]
     },
     "execution_count": 243,
     "metadata": {},
     "output_type": "execute_result"
    }
   ],
   "source": [
    "y_test[y_pred>0.4].mean()"
   ]
  },
  {
   "cell_type": "markdown",
   "metadata": {},
   "source": [
    "#### REGRESSION"
   ]
  },
  {
   "cell_type": "code",
   "execution_count": 244,
   "metadata": {},
   "outputs": [],
   "source": [
    "y=data.gain[0:5000][data.same_day[0:5000]]"
   ]
  },
  {
   "cell_type": "code",
   "execution_count": 245,
   "metadata": {},
   "outputs": [],
   "source": [
    "x=pd.concat([df_open,df_high,df_low,df_close,df_volume],axis=1).loc[data.same_day[0:5000],:]"
   ]
  },
  {
   "cell_type": "code",
   "execution_count": 246,
   "metadata": {},
   "outputs": [],
   "source": [
    "X_train=x.iloc[:-1000] \n",
    "X_test=x.iloc[-1000:]\n",
    "y_train=y.iloc[:-1000] \n",
    "y_test=y.iloc[-1000:]"
   ]
  },
  {
   "cell_type": "code",
   "execution_count": 251,
   "metadata": {},
   "outputs": [],
   "source": [
    "regr = RandomForestRegressor(max_depth=30,n_estimators=500, random_state=0)\n",
    "regr.fit(X_train, y_train)\n",
    "pred=regr.predict(X_test)\n"
   ]
  },
  {
   "cell_type": "code",
   "execution_count": 261,
   "metadata": {},
   "outputs": [
    {
     "data": {
      "text/plain": [
       "<matplotlib.collections.PathCollection at 0x7ffc6b05cc70>"
      ]
     },
     "execution_count": 261,
     "metadata": {},
     "output_type": "execute_result"
    },
    {
     "data": {
      "image/png": "[encoded data removed]",
      "text/plain": [
       "<Figure size 432x288 with 1 Axes>"
      ]
     },
     "metadata": {
      "needs_background": "light"
     },
     "output_type": "display_data"
    }
   ],
   "source": [
    "plt.scatter(pred,y_test)"
   ]
  },
  {
   "cell_type": "code",
   "execution_count": 254,
   "metadata": {},
   "outputs": [
    {
     "data": {
      "text/plain": [
       "-0.023432235489904363"
      ]
     },
     "execution_count": 254,
     "metadata": {},
     "output_type": "execute_result"
    }
   ],
   "source": [
    "from sklearn.metrics import r2_score\n",
    "r2_score(y_test, pred)\n"
   ]
  },
  {
   "cell_type": "code",
   "execution_count": null,
   "metadata": {},
   "outputs": [],
   "source": [
    "y_test[pred<0.0002].hist()"
   ]
  },
  {
   "cell_type": "code",
   "execution_count": 260,
   "metadata": {},
   "outputs": [
    {
     "data": {
      "text/plain": [
       "<AxesSubplot:>"
      ]
     },
     "execution_count": 260,
     "metadata": {},
     "output_type": "execute_result"
    },
    {
     "data": {
      "image/png": "[encoded data removed]",
      "text/plain": [
       "<Figure size 432x288 with 1 Axes>"
      ]
     },
     "metadata": {
      "needs_background": "light"
     },
     "output_type": "display_data"
    }
   ],
   "source": [
    "y_test[pred>0.0005].hist()"
   ]
  },
  {
   "cell_type": "code",
   "execution_count": 225,
   "metadata": {},
   "outputs": [
    {
     "data": {
      "text/plain": [
       "0.3333333333333333"
      ]
     },
     "execution_count": 225,
     "metadata": {},
     "output_type": "execute_result"
    }
   ],
   "source": [
    "y_test[y_pred>0.4].mean()"
   ]
  },
  {
   "cell_type": "code",
   "execution_count": 214,
   "metadata": {},
   "outputs": [
    {
     "data": {
      "text/plain": [
       "0.106"
      ]
     },
     "execution_count": 214,
     "metadata": {},
     "output_type": "execute_result"
    }
   ],
   "source": [
    "y_test.mean()"
   ]
  },
  {
   "cell_type": "code",
   "execution_count": 205,
   "metadata": {},
   "outputs": [
    {
     "data": {
      "text/plain": [
       "0.003"
      ]
     },
     "execution_count": 205,
     "metadata": {},
     "output_type": "execute_result"
    }
   ],
   "source": [
    "y_pred.mean()"
   ]
  },
  {
   "cell_type": "code",
   "execution_count": null,
   "metadata": {},
   "outputs": [],
   "source": []
  }
 ],
 "metadata": {
  "kernelspec": {
   "display_name": "Python 3 (ipykernel)",
   "language": "python",
   "name": "python3"
  },
  "language_info": {
   "codemirror_mode": {
    "name": "ipython",
    "version": 3
   },
   "file_extension": ".py",
   "mimetype": "text/x-python",
   "name": "python",
   "nbconvert_exporter": "python",
   "pygments_lexer": "ipython3",
   "version": "3.9.12"
  }
 },
 "nbformat": 4,
 "nbformat_minor": 4
}
