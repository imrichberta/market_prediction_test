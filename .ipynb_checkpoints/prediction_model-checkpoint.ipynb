{
 "cells": [
  {
   "cell_type": "code",
   "execution_count": 119,
   "id": "29b30b81-a593-4876-b58b-3bd77795d205",
   "metadata": {},
   "outputs": [],
   "source": [
    "import pandas as pd\n",
    "import numpy as np\n",
    "import matplotlib.pyplot as plt\n",
    "pd.set_option('display.max_columns', None)\n",
    "import math\n",
    "import pickle\n",
    "import pycatch22"
   ]
  },
  {
   "cell_type": "code",
   "execution_count": 187,
   "id": "8685f8c6-90ee-46a9-9eed-a0248b56fc3e",
   "metadata": {},
   "outputs": [],
   "source": [
    "from sklearn.ensemble import RandomForestClassifier\n",
    "from sklearn.metrics import roc_auc_score\n",
    "from sklearn.ensemble import AdaBoostClassifier\n",
    "from sklearn.linear_model import LogisticRegressionCV\n",
    "from sklearn.linear_model import ElasticNet\n",
    "from sklearn.metrics import r2_score\n"
   ]
  },
  {
   "cell_type": "code",
   "execution_count": 120,
   "id": "521e26b7-d4e0-48e6-ab8c-abcc3e1a9c9f",
   "metadata": {},
   "outputs": [],
   "source": [
    "with open('./data/features_60_10.pickle', 'rb') as f:\n",
    "    data,data_new=pickle.load(f)"
   ]
  },
  {
   "cell_type": "code",
   "execution_count": 127,
   "id": "8321b7bc-602e-4b5f-ad5c-c110527d0f54",
   "metadata": {},
   "outputs": [],
   "source": [
    "data.loc[:,'same_day']=data.same_day.fillna(False)"
   ]
  },
  {
   "cell_type": "code",
   "execution_count": 128,
   "id": "97e168c1-22d1-4265-8606-38cccff4cd24",
   "metadata": {},
   "outputs": [
    {
     "data": {
      "image/png": "[encoded data removed]",
      "text/plain": [
       "<Figure size 432x288 with 1 Axes>"
      ]
     },
     "metadata": {
      "needs_background": "light"
     },
     "output_type": "display_data"
    }
   ],
   "source": [
    "y=data.gain[data.same_day==1]\n",
    "y.hist(bins=200)\n",
    "y=(y>0.001)*1"
   ]
  },
  {
   "cell_type": "markdown",
   "id": "7aca3640-c7c8-4b4e-b87d-bae02e56c1f2",
   "metadata": {},
   "source": [
    "### REGRESSION MODEL\n",
    "Rescaling resposne to achieve higher focus on outlying observations"
   ]
  },
  {
   "cell_type": "code",
   "execution_count": 253,
   "id": "af9c15b1-7812-4c7d-8889-3a2c855bb066",
   "metadata": {},
   "outputs": [
    {
     "data": {
      "text/plain": [
       "<AxesSubplot:>"
      ]
     },
     "execution_count": 253,
     "metadata": {},
     "output_type": "execute_result"
    },
    {
     "data": {
      "image/png": "[encoded data removed]",
      "text/plain": [
       "<Figure size 432x288 with 1 Axes>"
      ]
     },
     "metadata": {
      "needs_background": "light"
     },
     "output_type": "display_data"
    }
   ],
   "source": [
    "y=(data.loc[data.same_day,'gain']**(3)*1e7)\n",
    "y.hist(log=True)"
   ]
  },
  {
   "cell_type": "code",
   "execution_count": 254,
   "id": "92a47ddf-992c-4c4c-bb4c-c6e0b8338852",
   "metadata": {},
   "outputs": [],
   "source": [
    "x=data_new.loc[y.index,:]"
   ]
  },
  {
   "cell_type": "code",
   "execution_count": 315,
   "id": "79a689e8-356f-4c81-b10a-7a5d8a6d1969",
   "metadata": {},
   "outputs": [],
   "source": [
    "X_train=x.iloc[:-30000] \n",
    "X_test=x.iloc[-30000:]\n",
    "y_train=y.iloc[:-30000] \n",
    "y_test=y.iloc[-30000:]"
   ]
  },
  {
   "cell_type": "code",
   "execution_count": 316,
   "id": "a1515f7b-7234-421b-904b-558f16cbf627",
   "metadata": {},
   "outputs": [],
   "source": [
    "#from sklearn import preprocessing\n"
   ]
  },
  {
   "cell_type": "code",
   "execution_count": 317,
   "id": "a9391731-d814-4487-9479-beb96954094c",
   "metadata": {},
   "outputs": [],
   "source": [
    "scaler = preprocessing.StandardScaler().fit(X_train)\n"
   ]
  },
  {
   "cell_type": "code",
   "execution_count": 318,
   "id": "221e049b-d4fb-45ff-86f5-2c846f91d49c",
   "metadata": {},
   "outputs": [],
   "source": [
    "\n",
    "model=ElasticNet(alpha=0.001, l1_ratio=0.5)\n",
    "model.fit(scaler.transform(X_train),y_train)\n",
    "\n",
    "y_pred=model.predict(scaler.transform(X_test))"
   ]
  },
  {
   "cell_type": "code",
   "execution_count": 319,
   "id": "6bd10c3a-3358-431e-8ddf-9df146fffeb1",
   "metadata": {},
   "outputs": [
    {
     "data": {
      "text/plain": [
       "0.021073486639713535"
      ]
     },
     "execution_count": 319,
     "metadata": {},
     "output_type": "execute_result"
    }
   ],
   "source": [
    "r2_score(y_true=y_test,y_pred=y_pred)"
   ]
  },
  {
   "cell_type": "code",
   "execution_count": 320,
   "id": "060243d3-7b6f-4ec2-a3a7-b72887d48fde",
   "metadata": {},
   "outputs": [
    {
     "data": {
      "text/plain": [
       "<matplotlib.collections.PathCollection at 0x7fdcbb1995e0>"
      ]
     },
     "execution_count": 320,
     "metadata": {},
     "output_type": "execute_result"
    },
    {
     "data": {
      "image/png": "[encoded data removed]",
      "text/plain": [
       "<Figure size 432x288 with 1 Axes>"
      ]
     },
     "metadata": {
      "needs_background": "light"
     },
     "output_type": "display_data"
    }
   ],
   "source": [
    "plt.scatter(x=y_pred,y=y_test)"
   ]
  },
  {
   "cell_type": "code",
   "execution_count": 327,
   "id": "87424328-84d2-41bc-94c9-56256f07c6cf",
   "metadata": {},
   "outputs": [],
   "source": [
    "data.loc[y_test[y_pred>0.02].index,'signal']=1\n",
    "data.loc[y_test[y_pred<=0.02].index,'signal']=0"
   ]
  },
  {
   "cell_type": "code",
   "execution_count": 328,
   "id": "b858e78c-0453-43b8-8072-2cdc0592e078",
   "metadata": {},
   "outputs": [
    {
     "data": {
      "text/plain": [
       "<AxesSubplot:>"
      ]
     },
     "execution_count": 328,
     "metadata": {},
     "output_type": "execute_result"
    },
    {
     "data": {
      "image/png": "[encoded data removed]",
      "text/plain": [
       "<Figure size 432x288 with 1 Axes>"
      ]
     },
     "metadata": {
      "needs_background": "light"
     },
     "output_type": "display_data"
    }
   ],
   "source": [
    "data.loc[data.signal==0,'gain'].hist(color='grey',log=True)\n",
    "data.loc[data.signal==1,'gain'].hist(color='green',log=True)"
   ]
  },
  {
   "cell_type": "code",
   "execution_count": 329,
   "id": "f90c406c-dcaf-45eb-8e08-89f87bfbd571",
   "metadata": {},
   "outputs": [
    {
     "data": {
      "text/plain": [
       "0       2022-06-20 10:22:00\n",
       "1       2022-06-20 10:23:00\n",
       "2       2022-06-20 10:24:00\n",
       "3       2022-06-20 10:25:00\n",
       "4       2022-06-20 10:26:00\n",
       "                ...        \n",
       "99995                   NaT\n",
       "99996                   NaT\n",
       "99997                   NaT\n",
       "99998                   NaT\n",
       "99999                   NaT\n",
       "Name: Time, Length: 100000, dtype: datetime64[ns]"
      ]
     },
     "execution_count": 329,
     "metadata": {},
     "output_type": "execute_result"
    }
   ],
   "source": [
    "data.Time.shift(-60)"
   ]
  },
  {
   "cell_type": "code",
   "execution_count": 330,
   "id": "298401fb-4213-4c1c-bd73-ea91ff7f7eec",
   "metadata": {},
   "outputs": [],
   "source": [
    "data.loc[:,'signal']=data.signal.shift(60)"
   ]
  },
  {
   "cell_type": "code",
   "execution_count": 331,
   "id": "cff28689-5bb6-4d9b-9107-916ab73e665a",
   "metadata": {},
   "outputs": [
    {
     "data": {
      "text/plain": [
       "<matplotlib.collections.PathCollection at 0x7fdce96e78e0>"
      ]
     },
     "execution_count": 331,
     "metadata": {},
     "output_type": "execute_result"
    },
    {
     "data": {
      "image/png": "[encoded data removed]",
      "text/plain": [
       "<Figure size 1440x720 with 1 Axes>"
      ]
     },
     "metadata": {
      "needs_background": "light"
     },
     "output_type": "display_data"
    }
   ],
   "source": [
    "plt.figure(figsize=(20,10))\n",
    "plt.plot(data.Time[data.signal.notna()],data.Close_EURUSD[data.signal.notna()],color='grey',alpha=0.7)\n",
    "plt.scatter(data.Time[data.signal==1],data.Close_EURUSD[data.signal==1],color='red')\n",
    "#plt.scatter(data.Time[data.signal==1],data.pred_min[data.signal==1],color='blue',alpha=0.4)\n"
   ]
  },
  {
   "cell_type": "code",
   "execution_count": 304,
   "id": "34807194-044e-480a-b85e-66ffe7f2e859",
   "metadata": {},
   "outputs": [],
   "source": [
    "data.loc[:,'signal']=data.signal.shift(60)"
   ]
  },
  {
   "cell_type": "code",
   "execution_count": 305,
   "id": "fda14648-14b1-46c2-ade0-1d3c05b9d94c",
   "metadata": {},
   "outputs": [
    {
     "data": {
      "text/plain": [
       "(19256.0, 19258.0)"
      ]
     },
     "execution_count": 305,
     "metadata": {},
     "output_type": "execute_result"
    },
    {
     "data": {
      "image/png": "[encoded data removed]",
      "text/plain": [
       "<Figure size 1440x720 with 1 Axes>"
      ]
     },
     "metadata": {
      "needs_background": "light"
     },
     "output_type": "display_data"
    }
   ],
   "source": [
    "plt.figure(figsize=(20,10))\n",
    "plt.plot(data.Time_pred[data.signal.notna()],data.Close_EURUSD[data.signal.notna()],color='grey',alpha=0.7)\n",
    "plt.scatter(data.Time_pred[data.signal==1],data.Close_EURUSD[data.signal==1],color='red')\n",
    "#plt.scatter(data.Time[data.signal==1],data.pred_min[data.signal==1],color='blue',alpha=0.4)\n",
    "plt.xlim(pd.to_datetime('2022-09-21'),pd.to_datetime('2022-09-23'))"
   ]
  },
  {
   "cell_type": "code",
   "execution_count": 224,
   "id": "7e5dcec2-2f23-437b-956d-57cfc49c5231",
   "metadata": {},
   "outputs": [
    {
     "data": {
      "text/html": [
       "<div>\n",
       "<style scoped>\n",
       "    .dataframe tbody tr th:only-of-type {\n",
       "        vertical-align: middle;\n",
       "    }\n",
       "\n",
       "    .dataframe tbody tr th {\n",
       "        vertical-align: top;\n",
       "    }\n",
       "\n",
       "    .dataframe thead th {\n",
       "        text-align: right;\n",
       "    }\n",
       "</style>\n",
       "<table border=\"1\" class=\"dataframe\">\n",
       "  <thead>\n",
       "    <tr style=\"text-align: right;\">\n",
       "      <th></th>\n",
       "      <th>Time</th>\n",
       "      <th>Open_EURUSD</th>\n",
       "      <th>High_EURUSD</th>\n",
       "      <th>Low_EURUSD</th>\n",
       "      <th>Close_EURUSD</th>\n",
       "      <th>Volume_EURUSD</th>\n",
       "      <th>Open_AUDUSD</th>\n",
       "      <th>High_AUDUSD</th>\n",
       "      <th>Low_AUDUSD</th>\n",
       "      <th>Close_AUDUSD</th>\n",
       "      <th>Volume_AUDUSD</th>\n",
       "      <th>Open_EURJPY</th>\n",
       "      <th>High_EURJPY</th>\n",
       "      <th>Low_EURJPY</th>\n",
       "      <th>Close_EURJPY</th>\n",
       "      <th>Volume_EURJPY</th>\n",
       "      <th>Open_GBPAUD</th>\n",
       "      <th>High_GBPAUD</th>\n",
       "      <th>Low_GBPAUD</th>\n",
       "      <th>Close_GBPAUD</th>\n",
       "      <th>Volume_GBPAUD</th>\n",
       "      <th>Open_USDCAD</th>\n",
       "      <th>High_USDCAD</th>\n",
       "      <th>Low_USDCAD</th>\n",
       "      <th>Close_USDCAD</th>\n",
       "      <th>Volume_USDCAD</th>\n",
       "      <th>date_day</th>\n",
       "      <th>ID</th>\n",
       "      <th>ID_day</th>\n",
       "      <th>pred_open</th>\n",
       "      <th>pred_max</th>\n",
       "      <th>pred_min</th>\n",
       "      <th>same_day</th>\n",
       "      <th>gain</th>\n",
       "      <th>signal</th>\n",
       "    </tr>\n",
       "  </thead>\n",
       "  <tbody>\n",
       "    <tr>\n",
       "      <th>0</th>\n",
       "      <td>2022-06-20 09:22:00</td>\n",
       "      <td>1.05252</td>\n",
       "      <td>1.05261</td>\n",
       "      <td>1.05242</td>\n",
       "      <td>1.05261</td>\n",
       "      <td>134</td>\n",
       "      <td>0.69901</td>\n",
       "      <td>0.69912</td>\n",
       "      <td>0.69899</td>\n",
       "      <td>0.69907</td>\n",
       "      <td>48.0</td>\n",
       "      <td>141.891</td>\n",
       "      <td>141.904</td>\n",
       "      <td>141.886</td>\n",
       "      <td>141.900</td>\n",
       "      <td>235.0</td>\n",
       "      <td>1.74989</td>\n",
       "      <td>1.75011</td>\n",
       "      <td>1.74973</td>\n",
       "      <td>1.75009</td>\n",
       "      <td>193.0</td>\n",
       "      <td>1.29937</td>\n",
       "      <td>1.29937</td>\n",
       "      <td>1.29927</td>\n",
       "      <td>1.29927</td>\n",
       "      <td>62.0</td>\n",
       "      <td>2022-06-20</td>\n",
       "      <td>0</td>\n",
       "      <td>0.0</td>\n",
       "      <td>1.05246</td>\n",
       "      <td>1.05285</td>\n",
       "      <td>1.05225</td>\n",
       "      <td>True</td>\n",
       "      <td>0.00039</td>\n",
       "      <td>NaN</td>\n",
       "    </tr>\n",
       "    <tr>\n",
       "      <th>1</th>\n",
       "      <td>2022-06-20 09:23:00</td>\n",
       "      <td>1.05262</td>\n",
       "      <td>1.05275</td>\n",
       "      <td>1.05253</td>\n",
       "      <td>1.05271</td>\n",
       "      <td>180</td>\n",
       "      <td>0.69906</td>\n",
       "      <td>0.69914</td>\n",
       "      <td>0.69901</td>\n",
       "      <td>0.69913</td>\n",
       "      <td>55.0</td>\n",
       "      <td>141.901</td>\n",
       "      <td>141.933</td>\n",
       "      <td>141.895</td>\n",
       "      <td>141.925</td>\n",
       "      <td>260.0</td>\n",
       "      <td>1.75012</td>\n",
       "      <td>1.75042</td>\n",
       "      <td>1.75010</td>\n",
       "      <td>1.75013</td>\n",
       "      <td>202.0</td>\n",
       "      <td>1.29928</td>\n",
       "      <td>1.29931</td>\n",
       "      <td>1.29923</td>\n",
       "      <td>1.29924</td>\n",
       "      <td>111.0</td>\n",
       "      <td>2022-06-20</td>\n",
       "      <td>1</td>\n",
       "      <td>1.0</td>\n",
       "      <td>1.05256</td>\n",
       "      <td>1.05300</td>\n",
       "      <td>1.05225</td>\n",
       "      <td>True</td>\n",
       "      <td>0.00044</td>\n",
       "      <td>NaN</td>\n",
       "    </tr>\n",
       "    <tr>\n",
       "      <th>2</th>\n",
       "      <td>2022-06-20 09:24:00</td>\n",
       "      <td>1.05269</td>\n",
       "      <td>1.05277</td>\n",
       "      <td>1.05259</td>\n",
       "      <td>1.05273</td>\n",
       "      <td>173</td>\n",
       "      <td>0.69913</td>\n",
       "      <td>0.69915</td>\n",
       "      <td>0.69910</td>\n",
       "      <td>0.69913</td>\n",
       "      <td>42.0</td>\n",
       "      <td>141.926</td>\n",
       "      <td>141.949</td>\n",
       "      <td>141.914</td>\n",
       "      <td>141.948</td>\n",
       "      <td>237.0</td>\n",
       "      <td>1.75021</td>\n",
       "      <td>1.75106</td>\n",
       "      <td>1.74999</td>\n",
       "      <td>1.75098</td>\n",
       "      <td>254.0</td>\n",
       "      <td>1.29927</td>\n",
       "      <td>1.29930</td>\n",
       "      <td>1.29924</td>\n",
       "      <td>1.29927</td>\n",
       "      <td>69.0</td>\n",
       "      <td>2022-06-20</td>\n",
       "      <td>2</td>\n",
       "      <td>2.0</td>\n",
       "      <td>1.05251</td>\n",
       "      <td>1.05300</td>\n",
       "      <td>1.05225</td>\n",
       "      <td>True</td>\n",
       "      <td>0.00049</td>\n",
       "      <td>NaN</td>\n",
       "    </tr>\n",
       "    <tr>\n",
       "      <th>3</th>\n",
       "      <td>2022-06-20 09:25:00</td>\n",
       "      <td>1.05274</td>\n",
       "      <td>1.05295</td>\n",
       "      <td>1.05262</td>\n",
       "      <td>1.05295</td>\n",
       "      <td>189</td>\n",
       "      <td>0.69915</td>\n",
       "      <td>0.69931</td>\n",
       "      <td>0.69913</td>\n",
       "      <td>0.69930</td>\n",
       "      <td>52.0</td>\n",
       "      <td>141.950</td>\n",
       "      <td>141.950</td>\n",
       "      <td>141.931</td>\n",
       "      <td>141.948</td>\n",
       "      <td>239.0</td>\n",
       "      <td>1.75097</td>\n",
       "      <td>1.75098</td>\n",
       "      <td>1.75036</td>\n",
       "      <td>1.75042</td>\n",
       "      <td>183.0</td>\n",
       "      <td>1.29926</td>\n",
       "      <td>1.29931</td>\n",
       "      <td>1.29919</td>\n",
       "      <td>1.29920</td>\n",
       "      <td>61.0</td>\n",
       "      <td>2022-06-20</td>\n",
       "      <td>3</td>\n",
       "      <td>3.0</td>\n",
       "      <td>1.05244</td>\n",
       "      <td>1.05312</td>\n",
       "      <td>1.05225</td>\n",
       "      <td>True</td>\n",
       "      <td>0.00068</td>\n",
       "      <td>NaN</td>\n",
       "    </tr>\n",
       "    <tr>\n",
       "      <th>4</th>\n",
       "      <td>2022-06-20 09:26:00</td>\n",
       "      <td>1.05297</td>\n",
       "      <td>1.05297</td>\n",
       "      <td>1.05291</td>\n",
       "      <td>1.05296</td>\n",
       "      <td>77</td>\n",
       "      <td>0.69931</td>\n",
       "      <td>0.69936</td>\n",
       "      <td>0.69923</td>\n",
       "      <td>0.69935</td>\n",
       "      <td>89.0</td>\n",
       "      <td>141.948</td>\n",
       "      <td>141.964</td>\n",
       "      <td>141.946</td>\n",
       "      <td>141.958</td>\n",
       "      <td>190.0</td>\n",
       "      <td>1.75042</td>\n",
       "      <td>1.75068</td>\n",
       "      <td>1.75036</td>\n",
       "      <td>1.75038</td>\n",
       "      <td>149.0</td>\n",
       "      <td>1.29919</td>\n",
       "      <td>1.29919</td>\n",
       "      <td>1.29905</td>\n",
       "      <td>1.29907</td>\n",
       "      <td>81.0</td>\n",
       "      <td>2022-06-20</td>\n",
       "      <td>4</td>\n",
       "      <td>4.0</td>\n",
       "      <td>1.05241</td>\n",
       "      <td>1.05337</td>\n",
       "      <td>1.05225</td>\n",
       "      <td>True</td>\n",
       "      <td>0.00096</td>\n",
       "      <td>NaN</td>\n",
       "    </tr>\n",
       "  </tbody>\n",
       "</table>\n",
       "</div>"
      ],
      "text/plain": [
       "                 Time  Open_EURUSD  High_EURUSD  Low_EURUSD  Close_EURUSD  \\\n",
       "0 2022-06-20 09:22:00      1.05252      1.05261     1.05242       1.05261   \n",
       "1 2022-06-20 09:23:00      1.05262      1.05275     1.05253       1.05271   \n",
       "2 2022-06-20 09:24:00      1.05269      1.05277     1.05259       1.05273   \n",
       "3 2022-06-20 09:25:00      1.05274      1.05295     1.05262       1.05295   \n",
       "4 2022-06-20 09:26:00      1.05297      1.05297     1.05291       1.05296   \n",
       "\n",
       "   Volume_EURUSD  Open_AUDUSD  High_AUDUSD  Low_AUDUSD  Close_AUDUSD  \\\n",
       "0            134      0.69901      0.69912     0.69899       0.69907   \n",
       "1            180      0.69906      0.69914     0.69901       0.69913   \n",
       "2            173      0.69913      0.69915     0.69910       0.69913   \n",
       "3            189      0.69915      0.69931     0.69913       0.69930   \n",
       "4             77      0.69931      0.69936     0.69923       0.69935   \n",
       "\n",
       "   Volume_AUDUSD  Open_EURJPY  High_EURJPY  Low_EURJPY  Close_EURJPY  \\\n",
       "0           48.0      141.891      141.904     141.886       141.900   \n",
       "1           55.0      141.901      141.933     141.895       141.925   \n",
       "2           42.0      141.926      141.949     141.914       141.948   \n",
       "3           52.0      141.950      141.950     141.931       141.948   \n",
       "4           89.0      141.948      141.964     141.946       141.958   \n",
       "\n",
       "   Volume_EURJPY  Open_GBPAUD  High_GBPAUD  Low_GBPAUD  Close_GBPAUD  \\\n",
       "0          235.0      1.74989      1.75011     1.74973       1.75009   \n",
       "1          260.0      1.75012      1.75042     1.75010       1.75013   \n",
       "2          237.0      1.75021      1.75106     1.74999       1.75098   \n",
       "3          239.0      1.75097      1.75098     1.75036       1.75042   \n",
       "4          190.0      1.75042      1.75068     1.75036       1.75038   \n",
       "\n",
       "   Volume_GBPAUD  Open_USDCAD  High_USDCAD  Low_USDCAD  Close_USDCAD  \\\n",
       "0          193.0      1.29937      1.29937     1.29927       1.29927   \n",
       "1          202.0      1.29928      1.29931     1.29923       1.29924   \n",
       "2          254.0      1.29927      1.29930     1.29924       1.29927   \n",
       "3          183.0      1.29926      1.29931     1.29919       1.29920   \n",
       "4          149.0      1.29919      1.29919     1.29905       1.29907   \n",
       "\n",
       "   Volume_USDCAD    date_day  ID  ID_day  pred_open  pred_max  pred_min  \\\n",
       "0           62.0  2022-06-20   0     0.0    1.05246   1.05285   1.05225   \n",
       "1          111.0  2022-06-20   1     1.0    1.05256   1.05300   1.05225   \n",
       "2           69.0  2022-06-20   2     2.0    1.05251   1.05300   1.05225   \n",
       "3           61.0  2022-06-20   3     3.0    1.05244   1.05312   1.05225   \n",
       "4           81.0  2022-06-20   4     4.0    1.05241   1.05337   1.05225   \n",
       "\n",
       "   same_day     gain  signal  \n",
       "0      True  0.00039     NaN  \n",
       "1      True  0.00044     NaN  \n",
       "2      True  0.00049     NaN  \n",
       "3      True  0.00068     NaN  \n",
       "4      True  0.00096     NaN  "
      ]
     },
     "execution_count": 224,
     "metadata": {},
     "output_type": "execute_result"
    }
   ],
   "source": [
    "data.head()"
   ]
  },
  {
   "cell_type": "code",
   "execution_count": null,
   "id": "756b6516-eb43-4e44-acc5-5e3a889bd1f1",
   "metadata": {},
   "outputs": [],
   "source": []
  },
  {
   "cell_type": "code",
   "execution_count": 79,
   "id": "d1ed50f0-9a08-4bb2-afa2-58c979161e6b",
   "metadata": {},
   "outputs": [
    {
     "data": {
      "text/plain": [
       "0.7237126989151391"
      ]
     },
     "execution_count": 79,
     "metadata": {},
     "output_type": "execute_result"
    }
   ],
   "source": [
    "clf=RandomForestClassifier(n_estimators=500,max_depth=30)\n",
    "clf.fit(X_train,y_train)\n",
    "y_pred=clf.predict_proba(X_test)[:, 1]\n",
    "roc_auc_score(y_test, y_pred)"
   ]
  },
  {
   "cell_type": "code",
   "execution_count": 62,
   "id": "2c3a4edd-a3fb-4405-a363-f393ec09e5ba",
   "metadata": {},
   "outputs": [
    {
     "data": {
      "text/plain": [
       "0.6749092598332327"
      ]
     },
     "execution_count": 62,
     "metadata": {},
     "output_type": "execute_result"
    }
   ],
   "source": [
    "clf=RandomForestClassifier(n_estimators=100,max_depth=30)\n",
    "clf.fit(X_train,y_train)\n",
    "y_pred=clf.predict_proba(X_test)[:, 1]\n",
    "roc_auc_score(y_test, y_pred)"
   ]
  },
  {
   "cell_type": "code",
   "execution_count": 109,
   "id": "da9e5289-7a0a-44f9-927c-4be25fb8694f",
   "metadata": {},
   "outputs": [
    {
     "data": {
      "text/plain": [
       "0.7297879837190937"
      ]
     },
     "execution_count": 109,
     "metadata": {},
     "output_type": "execute_result"
    }
   ],
   "source": [
    "clf = AdaBoostClassifier(n_estimators=300, random_state=0)\n",
    "clf.fit(X_train, y_train)\n",
    "y_pred=clf.predict_proba(X_test)[:, 1]\n",
    "roc_auc_score(y_test, y_pred)"
   ]
  },
  {
   "cell_type": "code",
   "execution_count": 110,
   "id": "2b5f0b4b-8278-4160-91b7-4b0c571b8bb8",
   "metadata": {},
   "outputs": [
    {
     "data": {
      "text/plain": [
       "0.7414132287160402"
      ]
     },
     "execution_count": 110,
     "metadata": {},
     "output_type": "execute_result"
    }
   ],
   "source": [
    "clf = AdaBoostClassifier(n_estimators=300, random_state=0)\n",
    "clf.fit(scaler.transform(X_train), y_train)\n",
    "y_pred=clf.predict_proba(scaler.transform(X_test))[:, 1]\n",
    "roc_auc_score(y_test, y_pred)"
   ]
  },
  {
   "cell_type": "code",
   "execution_count": 107,
   "id": "52f274a6-dec0-4125-a0e0-a2286ae1b0cf",
   "metadata": {},
   "outputs": [
    {
     "name": "stdout",
     "output_type": "stream",
     "text": [
      "Alpha: 0.0002  || ROC-AUC: 0.7643733353796374\n",
      "Alpha: 0.0003  || ROC-AUC: 0.76953040520017\n",
      "Alpha: 0.0005  || ROC-AUC: 0.7712669499518798\n",
      "Alpha: 0.0008  || ROC-AUC: 0.7759804833753785\n",
      "Alpha: 0.001  || ROC-AUC: 0.7771830706710279\n",
      "Alpha: 0.002  || ROC-AUC: 0.7739858485287395\n",
      "Alpha: 0.003  || ROC-AUC: 0.7720373834166243\n",
      "Alpha: 0.004  || ROC-AUC: 0.7699440144008646\n"
     ]
    }
   ],
   "source": [
    "from sklearn.linear_model import LogisticRegression\n",
    "for alpha in [0.0002,0.0003,0.0005,0.0008,0.001,0.002,0.003,0.004]:\n",
    "    model = LogisticRegression(penalty = 'elasticnet', solver = 'saga', l1_ratio = 0.5,C=alpha,max_iter=1000)\n",
    "    model.fit(scaler.transform(X_train), y_train)\n",
    "    y_pred=model.predict_proba(scaler.transform(X_test))[:, 1]\n",
    "    print(\"Alpha: {}  || ROC-AUC: {}\".format(alpha,roc_auc_score(y_test, y_pred)))\n"
   ]
  },
  {
   "cell_type": "code",
   "execution_count": 108,
   "id": "b12407e1-d778-4776-8aca-ef9560b20b63",
   "metadata": {},
   "outputs": [
    {
     "name": "stderr",
     "output_type": "stream",
     "text": [
      "/Users/imro/opt/anaconda3/lib/python3.9/site-packages/sklearn/linear_model/_sag.py:352: ConvergenceWarning: The max_iter was reached which means the coef_ did not converge\n",
      "  warnings.warn(\n"
     ]
    },
    {
     "name": "stdout",
     "output_type": "stream",
     "text": [
      "Alpha: 0.0002  || ROC-AUC: 0.7299349339267616\n"
     ]
    },
    {
     "ename": "KeyboardInterrupt",
     "evalue": "",
     "output_type": "error",
     "traceback": [
      "\u001b[0;31m---------------------------------------------------------------------------\u001b[0m",
      "\u001b[0;31mKeyboardInterrupt\u001b[0m                         Traceback (most recent call last)",
      "Cell \u001b[0;32mIn [108], line 4\u001b[0m\n\u001b[1;32m      2\u001b[0m \u001b[38;5;28;01mfor\u001b[39;00m alpha \u001b[38;5;129;01min\u001b[39;00m [\u001b[38;5;241m0.0002\u001b[39m,\u001b[38;5;241m0.0003\u001b[39m,\u001b[38;5;241m0.0005\u001b[39m,\u001b[38;5;241m0.0008\u001b[39m,\u001b[38;5;241m0.001\u001b[39m,\u001b[38;5;241m0.002\u001b[39m,\u001b[38;5;241m0.003\u001b[39m,\u001b[38;5;241m0.004\u001b[39m]:\n\u001b[1;32m      3\u001b[0m     model \u001b[38;5;241m=\u001b[39m LogisticRegression(penalty \u001b[38;5;241m=\u001b[39m \u001b[38;5;124m'\u001b[39m\u001b[38;5;124melasticnet\u001b[39m\u001b[38;5;124m'\u001b[39m, solver \u001b[38;5;241m=\u001b[39m \u001b[38;5;124m'\u001b[39m\u001b[38;5;124msaga\u001b[39m\u001b[38;5;124m'\u001b[39m, l1_ratio \u001b[38;5;241m=\u001b[39m \u001b[38;5;241m0.5\u001b[39m,C\u001b[38;5;241m=\u001b[39malpha,max_iter\u001b[38;5;241m=\u001b[39m\u001b[38;5;241m1000\u001b[39m)\n\u001b[0;32m----> 4\u001b[0m     \u001b[43mmodel\u001b[49m\u001b[38;5;241;43m.\u001b[39;49m\u001b[43mfit\u001b[49m\u001b[43m(\u001b[49m\u001b[43mX_train\u001b[49m\u001b[43m,\u001b[49m\u001b[43m \u001b[49m\u001b[43my_train\u001b[49m\u001b[43m)\u001b[49m\n\u001b[1;32m      5\u001b[0m     y_pred\u001b[38;5;241m=\u001b[39mmodel\u001b[38;5;241m.\u001b[39mpredict_proba(X_test)[:, \u001b[38;5;241m1\u001b[39m]\n\u001b[1;32m      6\u001b[0m     \u001b[38;5;28mprint\u001b[39m(\u001b[38;5;124m\"\u001b[39m\u001b[38;5;124mAlpha: \u001b[39m\u001b[38;5;132;01m{}\u001b[39;00m\u001b[38;5;124m  || ROC-AUC: \u001b[39m\u001b[38;5;132;01m{}\u001b[39;00m\u001b[38;5;124m\"\u001b[39m\u001b[38;5;241m.\u001b[39mformat(alpha,roc_auc_score(y_test, y_pred)))\n",
      "File \u001b[0;32m~/opt/anaconda3/lib/python3.9/site-packages/sklearn/linear_model/_logistic.py:1589\u001b[0m, in \u001b[0;36mLogisticRegression.fit\u001b[0;34m(self, X, y, sample_weight)\u001b[0m\n\u001b[1;32m   1587\u001b[0m \u001b[38;5;28;01melse\u001b[39;00m:\n\u001b[1;32m   1588\u001b[0m     prefer \u001b[38;5;241m=\u001b[39m \u001b[38;5;124m\"\u001b[39m\u001b[38;5;124mprocesses\u001b[39m\u001b[38;5;124m\"\u001b[39m\n\u001b[0;32m-> 1589\u001b[0m fold_coefs_ \u001b[38;5;241m=\u001b[39m \u001b[43mParallel\u001b[49m\u001b[43m(\u001b[49m\n\u001b[1;32m   1590\u001b[0m \u001b[43m    \u001b[49m\u001b[43mn_jobs\u001b[49m\u001b[38;5;241;43m=\u001b[39;49m\u001b[38;5;28;43mself\u001b[39;49m\u001b[38;5;241;43m.\u001b[39;49m\u001b[43mn_jobs\u001b[49m\u001b[43m,\u001b[49m\n\u001b[1;32m   1591\u001b[0m \u001b[43m    \u001b[49m\u001b[43mverbose\u001b[49m\u001b[38;5;241;43m=\u001b[39;49m\u001b[38;5;28;43mself\u001b[39;49m\u001b[38;5;241;43m.\u001b[39;49m\u001b[43mverbose\u001b[49m\u001b[43m,\u001b[49m\n\u001b[1;32m   1592\u001b[0m \u001b[43m    \u001b[49m\u001b[38;5;241;43m*\u001b[39;49m\u001b[38;5;241;43m*\u001b[39;49m\u001b[43m_joblib_parallel_args\u001b[49m\u001b[43m(\u001b[49m\u001b[43mprefer\u001b[49m\u001b[38;5;241;43m=\u001b[39;49m\u001b[43mprefer\u001b[49m\u001b[43m)\u001b[49m\u001b[43m,\u001b[49m\n\u001b[1;32m   1593\u001b[0m \u001b[43m\u001b[49m\u001b[43m)\u001b[49m\u001b[43m(\u001b[49m\n\u001b[1;32m   1594\u001b[0m \u001b[43m    \u001b[49m\u001b[43mpath_func\u001b[49m\u001b[43m(\u001b[49m\n\u001b[1;32m   1595\u001b[0m \u001b[43m        \u001b[49m\u001b[43mX\u001b[49m\u001b[43m,\u001b[49m\n\u001b[1;32m   1596\u001b[0m \u001b[43m        \u001b[49m\u001b[43my\u001b[49m\u001b[43m,\u001b[49m\n\u001b[1;32m   1597\u001b[0m \u001b[43m        \u001b[49m\u001b[43mpos_class\u001b[49m\u001b[38;5;241;43m=\u001b[39;49m\u001b[43mclass_\u001b[49m\u001b[43m,\u001b[49m\n\u001b[1;32m   1598\u001b[0m \u001b[43m        \u001b[49m\u001b[43mCs\u001b[49m\u001b[38;5;241;43m=\u001b[39;49m\u001b[43m[\u001b[49m\u001b[43mC_\u001b[49m\u001b[43m]\u001b[49m\u001b[43m,\u001b[49m\n\u001b[1;32m   1599\u001b[0m \u001b[43m        \u001b[49m\u001b[43ml1_ratio\u001b[49m\u001b[38;5;241;43m=\u001b[39;49m\u001b[38;5;28;43mself\u001b[39;49m\u001b[38;5;241;43m.\u001b[39;49m\u001b[43ml1_ratio\u001b[49m\u001b[43m,\u001b[49m\n\u001b[1;32m   1600\u001b[0m \u001b[43m        \u001b[49m\u001b[43mfit_intercept\u001b[49m\u001b[38;5;241;43m=\u001b[39;49m\u001b[38;5;28;43mself\u001b[39;49m\u001b[38;5;241;43m.\u001b[39;49m\u001b[43mfit_intercept\u001b[49m\u001b[43m,\u001b[49m\n\u001b[1;32m   1601\u001b[0m \u001b[43m        \u001b[49m\u001b[43mtol\u001b[49m\u001b[38;5;241;43m=\u001b[39;49m\u001b[38;5;28;43mself\u001b[39;49m\u001b[38;5;241;43m.\u001b[39;49m\u001b[43mtol\u001b[49m\u001b[43m,\u001b[49m\n\u001b[1;32m   1602\u001b[0m \u001b[43m        \u001b[49m\u001b[43mverbose\u001b[49m\u001b[38;5;241;43m=\u001b[39;49m\u001b[38;5;28;43mself\u001b[39;49m\u001b[38;5;241;43m.\u001b[39;49m\u001b[43mverbose\u001b[49m\u001b[43m,\u001b[49m\n\u001b[1;32m   1603\u001b[0m \u001b[43m        \u001b[49m\u001b[43msolver\u001b[49m\u001b[38;5;241;43m=\u001b[39;49m\u001b[43msolver\u001b[49m\u001b[43m,\u001b[49m\n\u001b[1;32m   1604\u001b[0m \u001b[43m        \u001b[49m\u001b[43mmulti_class\u001b[49m\u001b[38;5;241;43m=\u001b[39;49m\u001b[43mmulti_class\u001b[49m\u001b[43m,\u001b[49m\n\u001b[1;32m   1605\u001b[0m \u001b[43m        \u001b[49m\u001b[43mmax_iter\u001b[49m\u001b[38;5;241;43m=\u001b[39;49m\u001b[38;5;28;43mself\u001b[39;49m\u001b[38;5;241;43m.\u001b[39;49m\u001b[43mmax_iter\u001b[49m\u001b[43m,\u001b[49m\n\u001b[1;32m   1606\u001b[0m \u001b[43m        \u001b[49m\u001b[43mclass_weight\u001b[49m\u001b[38;5;241;43m=\u001b[39;49m\u001b[38;5;28;43mself\u001b[39;49m\u001b[38;5;241;43m.\u001b[39;49m\u001b[43mclass_weight\u001b[49m\u001b[43m,\u001b[49m\n\u001b[1;32m   1607\u001b[0m \u001b[43m        \u001b[49m\u001b[43mcheck_input\u001b[49m\u001b[38;5;241;43m=\u001b[39;49m\u001b[38;5;28;43;01mFalse\u001b[39;49;00m\u001b[43m,\u001b[49m\n\u001b[1;32m   1608\u001b[0m \u001b[43m        \u001b[49m\u001b[43mrandom_state\u001b[49m\u001b[38;5;241;43m=\u001b[39;49m\u001b[38;5;28;43mself\u001b[39;49m\u001b[38;5;241;43m.\u001b[39;49m\u001b[43mrandom_state\u001b[49m\u001b[43m,\u001b[49m\n\u001b[1;32m   1609\u001b[0m \u001b[43m        \u001b[49m\u001b[43mcoef\u001b[49m\u001b[38;5;241;43m=\u001b[39;49m\u001b[43mwarm_start_coef_\u001b[49m\u001b[43m,\u001b[49m\n\u001b[1;32m   1610\u001b[0m \u001b[43m        \u001b[49m\u001b[43mpenalty\u001b[49m\u001b[38;5;241;43m=\u001b[39;49m\u001b[43mpenalty\u001b[49m\u001b[43m,\u001b[49m\n\u001b[1;32m   1611\u001b[0m \u001b[43m        \u001b[49m\u001b[43mmax_squared_sum\u001b[49m\u001b[38;5;241;43m=\u001b[39;49m\u001b[43mmax_squared_sum\u001b[49m\u001b[43m,\u001b[49m\n\u001b[1;32m   1612\u001b[0m \u001b[43m        \u001b[49m\u001b[43msample_weight\u001b[49m\u001b[38;5;241;43m=\u001b[39;49m\u001b[43msample_weight\u001b[49m\u001b[43m,\u001b[49m\n\u001b[1;32m   1613\u001b[0m \u001b[43m    \u001b[49m\u001b[43m)\u001b[49m\n\u001b[1;32m   1614\u001b[0m \u001b[43m    \u001b[49m\u001b[38;5;28;43;01mfor\u001b[39;49;00m\u001b[43m \u001b[49m\u001b[43mclass_\u001b[49m\u001b[43m,\u001b[49m\u001b[43m \u001b[49m\u001b[43mwarm_start_coef_\u001b[49m\u001b[43m \u001b[49m\u001b[38;5;129;43;01min\u001b[39;49;00m\u001b[43m \u001b[49m\u001b[38;5;28;43mzip\u001b[39;49m\u001b[43m(\u001b[49m\u001b[43mclasses_\u001b[49m\u001b[43m,\u001b[49m\u001b[43m \u001b[49m\u001b[43mwarm_start_coef\u001b[49m\u001b[43m)\u001b[49m\n\u001b[1;32m   1615\u001b[0m \u001b[43m\u001b[49m\u001b[43m)\u001b[49m\n\u001b[1;32m   1617\u001b[0m fold_coefs_, _, n_iter_ \u001b[38;5;241m=\u001b[39m \u001b[38;5;28mzip\u001b[39m(\u001b[38;5;241m*\u001b[39mfold_coefs_)\n\u001b[1;32m   1618\u001b[0m \u001b[38;5;28mself\u001b[39m\u001b[38;5;241m.\u001b[39mn_iter_ \u001b[38;5;241m=\u001b[39m np\u001b[38;5;241m.\u001b[39masarray(n_iter_, dtype\u001b[38;5;241m=\u001b[39mnp\u001b[38;5;241m.\u001b[39mint32)[:, \u001b[38;5;241m0\u001b[39m]\n",
      "File \u001b[0;32m~/opt/anaconda3/lib/python3.9/site-packages/joblib/parallel.py:1043\u001b[0m, in \u001b[0;36mParallel.__call__\u001b[0;34m(self, iterable)\u001b[0m\n\u001b[1;32m   1034\u001b[0m \u001b[38;5;28;01mtry\u001b[39;00m:\n\u001b[1;32m   1035\u001b[0m     \u001b[38;5;66;03m# Only set self._iterating to True if at least a batch\u001b[39;00m\n\u001b[1;32m   1036\u001b[0m     \u001b[38;5;66;03m# was dispatched. In particular this covers the edge\u001b[39;00m\n\u001b[0;32m   (...)\u001b[0m\n\u001b[1;32m   1040\u001b[0m     \u001b[38;5;66;03m# was very quick and its callback already dispatched all the\u001b[39;00m\n\u001b[1;32m   1041\u001b[0m     \u001b[38;5;66;03m# remaining jobs.\u001b[39;00m\n\u001b[1;32m   1042\u001b[0m     \u001b[38;5;28mself\u001b[39m\u001b[38;5;241m.\u001b[39m_iterating \u001b[38;5;241m=\u001b[39m \u001b[38;5;28;01mFalse\u001b[39;00m\n\u001b[0;32m-> 1043\u001b[0m     \u001b[38;5;28;01mif\u001b[39;00m \u001b[38;5;28;43mself\u001b[39;49m\u001b[38;5;241;43m.\u001b[39;49m\u001b[43mdispatch_one_batch\u001b[49m\u001b[43m(\u001b[49m\u001b[43miterator\u001b[49m\u001b[43m)\u001b[49m:\n\u001b[1;32m   1044\u001b[0m         \u001b[38;5;28mself\u001b[39m\u001b[38;5;241m.\u001b[39m_iterating \u001b[38;5;241m=\u001b[39m \u001b[38;5;28mself\u001b[39m\u001b[38;5;241m.\u001b[39m_original_iterator \u001b[38;5;129;01mis\u001b[39;00m \u001b[38;5;129;01mnot\u001b[39;00m \u001b[38;5;28;01mNone\u001b[39;00m\n\u001b[1;32m   1046\u001b[0m     \u001b[38;5;28;01mwhile\u001b[39;00m \u001b[38;5;28mself\u001b[39m\u001b[38;5;241m.\u001b[39mdispatch_one_batch(iterator):\n",
      "File \u001b[0;32m~/opt/anaconda3/lib/python3.9/site-packages/joblib/parallel.py:861\u001b[0m, in \u001b[0;36mParallel.dispatch_one_batch\u001b[0;34m(self, iterator)\u001b[0m\n\u001b[1;32m    859\u001b[0m     \u001b[38;5;28;01mreturn\u001b[39;00m \u001b[38;5;28;01mFalse\u001b[39;00m\n\u001b[1;32m    860\u001b[0m \u001b[38;5;28;01melse\u001b[39;00m:\n\u001b[0;32m--> 861\u001b[0m     \u001b[38;5;28;43mself\u001b[39;49m\u001b[38;5;241;43m.\u001b[39;49m\u001b[43m_dispatch\u001b[49m\u001b[43m(\u001b[49m\u001b[43mtasks\u001b[49m\u001b[43m)\u001b[49m\n\u001b[1;32m    862\u001b[0m     \u001b[38;5;28;01mreturn\u001b[39;00m \u001b[38;5;28;01mTrue\u001b[39;00m\n",
      "File \u001b[0;32m~/opt/anaconda3/lib/python3.9/site-packages/joblib/parallel.py:779\u001b[0m, in \u001b[0;36mParallel._dispatch\u001b[0;34m(self, batch)\u001b[0m\n\u001b[1;32m    777\u001b[0m \u001b[38;5;28;01mwith\u001b[39;00m \u001b[38;5;28mself\u001b[39m\u001b[38;5;241m.\u001b[39m_lock:\n\u001b[1;32m    778\u001b[0m     job_idx \u001b[38;5;241m=\u001b[39m \u001b[38;5;28mlen\u001b[39m(\u001b[38;5;28mself\u001b[39m\u001b[38;5;241m.\u001b[39m_jobs)\n\u001b[0;32m--> 779\u001b[0m     job \u001b[38;5;241m=\u001b[39m \u001b[38;5;28;43mself\u001b[39;49m\u001b[38;5;241;43m.\u001b[39;49m\u001b[43m_backend\u001b[49m\u001b[38;5;241;43m.\u001b[39;49m\u001b[43mapply_async\u001b[49m\u001b[43m(\u001b[49m\u001b[43mbatch\u001b[49m\u001b[43m,\u001b[49m\u001b[43m \u001b[49m\u001b[43mcallback\u001b[49m\u001b[38;5;241;43m=\u001b[39;49m\u001b[43mcb\u001b[49m\u001b[43m)\u001b[49m\n\u001b[1;32m    780\u001b[0m     \u001b[38;5;66;03m# A job can complete so quickly than its callback is\u001b[39;00m\n\u001b[1;32m    781\u001b[0m     \u001b[38;5;66;03m# called before we get here, causing self._jobs to\u001b[39;00m\n\u001b[1;32m    782\u001b[0m     \u001b[38;5;66;03m# grow. To ensure correct results ordering, .insert is\u001b[39;00m\n\u001b[1;32m    783\u001b[0m     \u001b[38;5;66;03m# used (rather than .append) in the following line\u001b[39;00m\n\u001b[1;32m    784\u001b[0m     \u001b[38;5;28mself\u001b[39m\u001b[38;5;241m.\u001b[39m_jobs\u001b[38;5;241m.\u001b[39minsert(job_idx, job)\n",
      "File \u001b[0;32m~/opt/anaconda3/lib/python3.9/site-packages/joblib/_parallel_backends.py:208\u001b[0m, in \u001b[0;36mSequentialBackend.apply_async\u001b[0;34m(self, func, callback)\u001b[0m\n\u001b[1;32m    206\u001b[0m \u001b[38;5;28;01mdef\u001b[39;00m \u001b[38;5;21mapply_async\u001b[39m(\u001b[38;5;28mself\u001b[39m, func, callback\u001b[38;5;241m=\u001b[39m\u001b[38;5;28;01mNone\u001b[39;00m):\n\u001b[1;32m    207\u001b[0m     \u001b[38;5;124;03m\"\"\"Schedule a func to be run\"\"\"\u001b[39;00m\n\u001b[0;32m--> 208\u001b[0m     result \u001b[38;5;241m=\u001b[39m \u001b[43mImmediateResult\u001b[49m\u001b[43m(\u001b[49m\u001b[43mfunc\u001b[49m\u001b[43m)\u001b[49m\n\u001b[1;32m    209\u001b[0m     \u001b[38;5;28;01mif\u001b[39;00m callback:\n\u001b[1;32m    210\u001b[0m         callback(result)\n",
      "File \u001b[0;32m~/opt/anaconda3/lib/python3.9/site-packages/joblib/_parallel_backends.py:572\u001b[0m, in \u001b[0;36mImmediateResult.__init__\u001b[0;34m(self, batch)\u001b[0m\n\u001b[1;32m    569\u001b[0m \u001b[38;5;28;01mdef\u001b[39;00m \u001b[38;5;21m__init__\u001b[39m(\u001b[38;5;28mself\u001b[39m, batch):\n\u001b[1;32m    570\u001b[0m     \u001b[38;5;66;03m# Don't delay the application, to avoid keeping the input\u001b[39;00m\n\u001b[1;32m    571\u001b[0m     \u001b[38;5;66;03m# arguments in memory\u001b[39;00m\n\u001b[0;32m--> 572\u001b[0m     \u001b[38;5;28mself\u001b[39m\u001b[38;5;241m.\u001b[39mresults \u001b[38;5;241m=\u001b[39m \u001b[43mbatch\u001b[49m\u001b[43m(\u001b[49m\u001b[43m)\u001b[49m\n",
      "File \u001b[0;32m~/opt/anaconda3/lib/python3.9/site-packages/joblib/parallel.py:262\u001b[0m, in \u001b[0;36mBatchedCalls.__call__\u001b[0;34m(self)\u001b[0m\n\u001b[1;32m    258\u001b[0m \u001b[38;5;28;01mdef\u001b[39;00m \u001b[38;5;21m__call__\u001b[39m(\u001b[38;5;28mself\u001b[39m):\n\u001b[1;32m    259\u001b[0m     \u001b[38;5;66;03m# Set the default nested backend to self._backend but do not set the\u001b[39;00m\n\u001b[1;32m    260\u001b[0m     \u001b[38;5;66;03m# change the default number of processes to -1\u001b[39;00m\n\u001b[1;32m    261\u001b[0m     \u001b[38;5;28;01mwith\u001b[39;00m parallel_backend(\u001b[38;5;28mself\u001b[39m\u001b[38;5;241m.\u001b[39m_backend, n_jobs\u001b[38;5;241m=\u001b[39m\u001b[38;5;28mself\u001b[39m\u001b[38;5;241m.\u001b[39m_n_jobs):\n\u001b[0;32m--> 262\u001b[0m         \u001b[38;5;28;01mreturn\u001b[39;00m [func(\u001b[38;5;241m*\u001b[39margs, \u001b[38;5;241m*\u001b[39m\u001b[38;5;241m*\u001b[39mkwargs)\n\u001b[1;32m    263\u001b[0m                 \u001b[38;5;28;01mfor\u001b[39;00m func, args, kwargs \u001b[38;5;129;01min\u001b[39;00m \u001b[38;5;28mself\u001b[39m\u001b[38;5;241m.\u001b[39mitems]\n",
      "File \u001b[0;32m~/opt/anaconda3/lib/python3.9/site-packages/joblib/parallel.py:262\u001b[0m, in \u001b[0;36m<listcomp>\u001b[0;34m(.0)\u001b[0m\n\u001b[1;32m    258\u001b[0m \u001b[38;5;28;01mdef\u001b[39;00m \u001b[38;5;21m__call__\u001b[39m(\u001b[38;5;28mself\u001b[39m):\n\u001b[1;32m    259\u001b[0m     \u001b[38;5;66;03m# Set the default nested backend to self._backend but do not set the\u001b[39;00m\n\u001b[1;32m    260\u001b[0m     \u001b[38;5;66;03m# change the default number of processes to -1\u001b[39;00m\n\u001b[1;32m    261\u001b[0m     \u001b[38;5;28;01mwith\u001b[39;00m parallel_backend(\u001b[38;5;28mself\u001b[39m\u001b[38;5;241m.\u001b[39m_backend, n_jobs\u001b[38;5;241m=\u001b[39m\u001b[38;5;28mself\u001b[39m\u001b[38;5;241m.\u001b[39m_n_jobs):\n\u001b[0;32m--> 262\u001b[0m         \u001b[38;5;28;01mreturn\u001b[39;00m [\u001b[43mfunc\u001b[49m\u001b[43m(\u001b[49m\u001b[38;5;241;43m*\u001b[39;49m\u001b[43margs\u001b[49m\u001b[43m,\u001b[49m\u001b[43m \u001b[49m\u001b[38;5;241;43m*\u001b[39;49m\u001b[38;5;241;43m*\u001b[39;49m\u001b[43mkwargs\u001b[49m\u001b[43m)\u001b[49m\n\u001b[1;32m    263\u001b[0m                 \u001b[38;5;28;01mfor\u001b[39;00m func, args, kwargs \u001b[38;5;129;01min\u001b[39;00m \u001b[38;5;28mself\u001b[39m\u001b[38;5;241m.\u001b[39mitems]\n",
      "File \u001b[0;32m~/opt/anaconda3/lib/python3.9/site-packages/sklearn/utils/fixes.py:216\u001b[0m, in \u001b[0;36m_FuncWrapper.__call__\u001b[0;34m(self, *args, **kwargs)\u001b[0m\n\u001b[1;32m    214\u001b[0m \u001b[38;5;28;01mdef\u001b[39;00m \u001b[38;5;21m__call__\u001b[39m(\u001b[38;5;28mself\u001b[39m, \u001b[38;5;241m*\u001b[39margs, \u001b[38;5;241m*\u001b[39m\u001b[38;5;241m*\u001b[39mkwargs):\n\u001b[1;32m    215\u001b[0m     \u001b[38;5;28;01mwith\u001b[39;00m config_context(\u001b[38;5;241m*\u001b[39m\u001b[38;5;241m*\u001b[39m\u001b[38;5;28mself\u001b[39m\u001b[38;5;241m.\u001b[39mconfig):\n\u001b[0;32m--> 216\u001b[0m         \u001b[38;5;28;01mreturn\u001b[39;00m \u001b[38;5;28;43mself\u001b[39;49m\u001b[38;5;241;43m.\u001b[39;49m\u001b[43mfunction\u001b[49m\u001b[43m(\u001b[49m\u001b[38;5;241;43m*\u001b[39;49m\u001b[43margs\u001b[49m\u001b[43m,\u001b[49m\u001b[43m \u001b[49m\u001b[38;5;241;43m*\u001b[39;49m\u001b[38;5;241;43m*\u001b[39;49m\u001b[43mkwargs\u001b[49m\u001b[43m)\u001b[49m\n",
      "File \u001b[0;32m~/opt/anaconda3/lib/python3.9/site-packages/sklearn/linear_model/_logistic.py:864\u001b[0m, in \u001b[0;36m_logistic_regression_path\u001b[0;34m(X, y, pos_class, Cs, fit_intercept, max_iter, tol, verbose, solver, coef, class_weight, dual, penalty, intercept_scaling, multi_class, random_state, check_input, max_squared_sum, sample_weight, l1_ratio)\u001b[0m\n\u001b[1;32m    861\u001b[0m         alpha \u001b[38;5;241m=\u001b[39m (\u001b[38;5;241m1.0\u001b[39m \u001b[38;5;241m/\u001b[39m C) \u001b[38;5;241m*\u001b[39m (\u001b[38;5;241m1\u001b[39m \u001b[38;5;241m-\u001b[39m l1_ratio)\n\u001b[1;32m    862\u001b[0m         beta \u001b[38;5;241m=\u001b[39m (\u001b[38;5;241m1.0\u001b[39m \u001b[38;5;241m/\u001b[39m C) \u001b[38;5;241m*\u001b[39m l1_ratio\n\u001b[0;32m--> 864\u001b[0m     w0, n_iter_i, warm_start_sag \u001b[38;5;241m=\u001b[39m \u001b[43msag_solver\u001b[49m\u001b[43m(\u001b[49m\n\u001b[1;32m    865\u001b[0m \u001b[43m        \u001b[49m\u001b[43mX\u001b[49m\u001b[43m,\u001b[49m\n\u001b[1;32m    866\u001b[0m \u001b[43m        \u001b[49m\u001b[43mtarget\u001b[49m\u001b[43m,\u001b[49m\n\u001b[1;32m    867\u001b[0m \u001b[43m        \u001b[49m\u001b[43msample_weight\u001b[49m\u001b[43m,\u001b[49m\n\u001b[1;32m    868\u001b[0m \u001b[43m        \u001b[49m\u001b[43mloss\u001b[49m\u001b[43m,\u001b[49m\n\u001b[1;32m    869\u001b[0m \u001b[43m        \u001b[49m\u001b[43malpha\u001b[49m\u001b[43m,\u001b[49m\n\u001b[1;32m    870\u001b[0m \u001b[43m        \u001b[49m\u001b[43mbeta\u001b[49m\u001b[43m,\u001b[49m\n\u001b[1;32m    871\u001b[0m \u001b[43m        \u001b[49m\u001b[43mmax_iter\u001b[49m\u001b[43m,\u001b[49m\n\u001b[1;32m    872\u001b[0m \u001b[43m        \u001b[49m\u001b[43mtol\u001b[49m\u001b[43m,\u001b[49m\n\u001b[1;32m    873\u001b[0m \u001b[43m        \u001b[49m\u001b[43mverbose\u001b[49m\u001b[43m,\u001b[49m\n\u001b[1;32m    874\u001b[0m \u001b[43m        \u001b[49m\u001b[43mrandom_state\u001b[49m\u001b[43m,\u001b[49m\n\u001b[1;32m    875\u001b[0m \u001b[43m        \u001b[49m\u001b[38;5;28;43;01mFalse\u001b[39;49;00m\u001b[43m,\u001b[49m\n\u001b[1;32m    876\u001b[0m \u001b[43m        \u001b[49m\u001b[43mmax_squared_sum\u001b[49m\u001b[43m,\u001b[49m\n\u001b[1;32m    877\u001b[0m \u001b[43m        \u001b[49m\u001b[43mwarm_start_sag\u001b[49m\u001b[43m,\u001b[49m\n\u001b[1;32m    878\u001b[0m \u001b[43m        \u001b[49m\u001b[43mis_saga\u001b[49m\u001b[38;5;241;43m=\u001b[39;49m\u001b[43m(\u001b[49m\u001b[43msolver\u001b[49m\u001b[43m \u001b[49m\u001b[38;5;241;43m==\u001b[39;49m\u001b[43m \u001b[49m\u001b[38;5;124;43m\"\u001b[39;49m\u001b[38;5;124;43msaga\u001b[39;49m\u001b[38;5;124;43m\"\u001b[39;49m\u001b[43m)\u001b[49m\u001b[43m,\u001b[49m\n\u001b[1;32m    879\u001b[0m \u001b[43m    \u001b[49m\u001b[43m)\u001b[49m\n\u001b[1;32m    881\u001b[0m \u001b[38;5;28;01melse\u001b[39;00m:\n\u001b[1;32m    882\u001b[0m     \u001b[38;5;28;01mraise\u001b[39;00m \u001b[38;5;167;01mValueError\u001b[39;00m(\n\u001b[1;32m    883\u001b[0m         \u001b[38;5;124m\"\u001b[39m\u001b[38;5;124msolver must be one of \u001b[39m\u001b[38;5;124m{\u001b[39m\u001b[38;5;124m'\u001b[39m\u001b[38;5;124mliblinear\u001b[39m\u001b[38;5;124m'\u001b[39m\u001b[38;5;124m, \u001b[39m\u001b[38;5;124m'\u001b[39m\u001b[38;5;124mlbfgs\u001b[39m\u001b[38;5;124m'\u001b[39m\u001b[38;5;124m, \u001b[39m\u001b[38;5;124m\"\u001b[39m\n\u001b[1;32m    884\u001b[0m         \u001b[38;5;124m\"\u001b[39m\u001b[38;5;124m'\u001b[39m\u001b[38;5;124mnewton-cg\u001b[39m\u001b[38;5;124m'\u001b[39m\u001b[38;5;124m, \u001b[39m\u001b[38;5;124m'\u001b[39m\u001b[38;5;124msag\u001b[39m\u001b[38;5;124m'\u001b[39m\u001b[38;5;124m}, got \u001b[39m\u001b[38;5;124m'\u001b[39m\u001b[38;5;132;01m%s\u001b[39;00m\u001b[38;5;124m'\u001b[39m\u001b[38;5;124m instead\u001b[39m\u001b[38;5;124m\"\u001b[39m \u001b[38;5;241m%\u001b[39m solver\n\u001b[1;32m    885\u001b[0m     )\n",
      "File \u001b[0;32m~/opt/anaconda3/lib/python3.9/site-packages/sklearn/linear_model/_sag.py:327\u001b[0m, in \u001b[0;36msag_solver\u001b[0;34m(X, y, sample_weight, loss, alpha, beta, max_iter, tol, verbose, random_state, check_input, max_squared_sum, warm_start_mem, is_saga)\u001b[0m\n\u001b[1;32m    321\u001b[0m     \u001b[38;5;28;01mraise\u001b[39;00m \u001b[38;5;167;01mZeroDivisionError\u001b[39;00m(\n\u001b[1;32m    322\u001b[0m         \u001b[38;5;124m\"\u001b[39m\u001b[38;5;124mCurrent sag implementation does not handle \u001b[39m\u001b[38;5;124m\"\u001b[39m\n\u001b[1;32m    323\u001b[0m         \u001b[38;5;124m\"\u001b[39m\u001b[38;5;124mthe case step_size * alpha_scaled == 1\u001b[39m\u001b[38;5;124m\"\u001b[39m\n\u001b[1;32m    324\u001b[0m     )\n\u001b[1;32m    326\u001b[0m sag \u001b[38;5;241m=\u001b[39m sag64 \u001b[38;5;28;01mif\u001b[39;00m X\u001b[38;5;241m.\u001b[39mdtype \u001b[38;5;241m==\u001b[39m np\u001b[38;5;241m.\u001b[39mfloat64 \u001b[38;5;28;01melse\u001b[39;00m sag32\n\u001b[0;32m--> 327\u001b[0m num_seen, n_iter_ \u001b[38;5;241m=\u001b[39m \u001b[43msag\u001b[49m\u001b[43m(\u001b[49m\n\u001b[1;32m    328\u001b[0m \u001b[43m    \u001b[49m\u001b[43mdataset\u001b[49m\u001b[43m,\u001b[49m\n\u001b[1;32m    329\u001b[0m \u001b[43m    \u001b[49m\u001b[43mcoef_init\u001b[49m\u001b[43m,\u001b[49m\n\u001b[1;32m    330\u001b[0m \u001b[43m    \u001b[49m\u001b[43mintercept_init\u001b[49m\u001b[43m,\u001b[49m\n\u001b[1;32m    331\u001b[0m \u001b[43m    \u001b[49m\u001b[43mn_samples\u001b[49m\u001b[43m,\u001b[49m\n\u001b[1;32m    332\u001b[0m \u001b[43m    \u001b[49m\u001b[43mn_features\u001b[49m\u001b[43m,\u001b[49m\n\u001b[1;32m    333\u001b[0m \u001b[43m    \u001b[49m\u001b[43mn_classes\u001b[49m\u001b[43m,\u001b[49m\n\u001b[1;32m    334\u001b[0m \u001b[43m    \u001b[49m\u001b[43mtol\u001b[49m\u001b[43m,\u001b[49m\n\u001b[1;32m    335\u001b[0m \u001b[43m    \u001b[49m\u001b[43mmax_iter\u001b[49m\u001b[43m,\u001b[49m\n\u001b[1;32m    336\u001b[0m \u001b[43m    \u001b[49m\u001b[43mloss\u001b[49m\u001b[43m,\u001b[49m\n\u001b[1;32m    337\u001b[0m \u001b[43m    \u001b[49m\u001b[43mstep_size\u001b[49m\u001b[43m,\u001b[49m\n\u001b[1;32m    338\u001b[0m \u001b[43m    \u001b[49m\u001b[43malpha_scaled\u001b[49m\u001b[43m,\u001b[49m\n\u001b[1;32m    339\u001b[0m \u001b[43m    \u001b[49m\u001b[43mbeta_scaled\u001b[49m\u001b[43m,\u001b[49m\n\u001b[1;32m    340\u001b[0m \u001b[43m    \u001b[49m\u001b[43msum_gradient_init\u001b[49m\u001b[43m,\u001b[49m\n\u001b[1;32m    341\u001b[0m \u001b[43m    \u001b[49m\u001b[43mgradient_memory_init\u001b[49m\u001b[43m,\u001b[49m\n\u001b[1;32m    342\u001b[0m \u001b[43m    \u001b[49m\u001b[43mseen_init\u001b[49m\u001b[43m,\u001b[49m\n\u001b[1;32m    343\u001b[0m \u001b[43m    \u001b[49m\u001b[43mnum_seen_init\u001b[49m\u001b[43m,\u001b[49m\n\u001b[1;32m    344\u001b[0m \u001b[43m    \u001b[49m\u001b[43mfit_intercept\u001b[49m\u001b[43m,\u001b[49m\n\u001b[1;32m    345\u001b[0m \u001b[43m    \u001b[49m\u001b[43mintercept_sum_gradient\u001b[49m\u001b[43m,\u001b[49m\n\u001b[1;32m    346\u001b[0m \u001b[43m    \u001b[49m\u001b[43mintercept_decay\u001b[49m\u001b[43m,\u001b[49m\n\u001b[1;32m    347\u001b[0m \u001b[43m    \u001b[49m\u001b[43mis_saga\u001b[49m\u001b[43m,\u001b[49m\n\u001b[1;32m    348\u001b[0m \u001b[43m    \u001b[49m\u001b[43mverbose\u001b[49m\u001b[43m,\u001b[49m\n\u001b[1;32m    349\u001b[0m \u001b[43m\u001b[49m\u001b[43m)\u001b[49m\n\u001b[1;32m    351\u001b[0m \u001b[38;5;28;01mif\u001b[39;00m n_iter_ \u001b[38;5;241m==\u001b[39m max_iter:\n\u001b[1;32m    352\u001b[0m     warnings\u001b[38;5;241m.\u001b[39mwarn(\n\u001b[1;32m    353\u001b[0m         \u001b[38;5;124m\"\u001b[39m\u001b[38;5;124mThe max_iter was reached which means the coef_ did not converge\u001b[39m\u001b[38;5;124m\"\u001b[39m,\n\u001b[1;32m    354\u001b[0m         ConvergenceWarning,\n\u001b[1;32m    355\u001b[0m     )\n",
      "\u001b[0;31mKeyboardInterrupt\u001b[0m: "
     ]
    }
   ],
   "source": [
    "from sklearn.linear_model import LogisticRegression\n",
    "for alpha in [0.0002,0.0003,0.0005,0.0008,0.001,0.002,0.003,0.004]:\n",
    "    model = LogisticRegression(penalty = 'elasticnet', solver = 'saga', l1_ratio = 0.5,C=alpha,max_iter=1000)\n",
    "    model.fit(X_train, y_train)\n",
    "    y_pred=model.predict_proba(X_test)[:, 1]\n",
    "    print(\"Alpha: {}  || ROC-AUC: {}\".format(alpha,roc_auc_score(y_test, y_pred)))\n"
   ]
  },
  {
   "cell_type": "code",
   "execution_count": 103,
   "id": "ac052bca-c276-4bf1-8260-4b6084b9c570",
   "metadata": {},
   "outputs": [
    {
     "name": "stdout",
     "output_type": "stream",
     "text": [
      "Alpha: 0.1  || ROC-AUC: 0.7557999609923295\n"
     ]
    }
   ],
   "source": [
    "\n",
    "print(\"Alpha: {}  || ROC-AUC: {}\".format(alpha,roc_auc_score(y_test, y_pred)))"
   ]
  },
  {
   "cell_type": "code",
   "execution_count": 98,
   "id": "36fcc073-31bc-47dd-9196-590e3aaa4cd2",
   "metadata": {},
   "outputs": [
    {
     "data": {
      "text/plain": [
       "0.7540551031305254"
      ]
     },
     "execution_count": 98,
     "metadata": {},
     "output_type": "execute_result"
    }
   ],
   "source": []
  },
  {
   "cell_type": "code",
   "execution_count": null,
   "id": "873a62ae-b806-4fbd-a525-9970f88d37f7",
   "metadata": {},
   "outputs": [],
   "source": [
    "print(\"Elasticnet: {}\".format(elastic_net_classifier.score(X_test, y_test)))\n"
   ]
  },
  {
   "cell_type": "code",
   "execution_count": 46,
   "id": "d037ab7d-ce02-4fd7-a060-9111a8cdfc09",
   "metadata": {},
   "outputs": [
    {
     "data": {
      "text/plain": [
       "0.4672131147540984"
      ]
     },
     "execution_count": 46,
     "metadata": {},
     "output_type": "execute_result"
    }
   ],
   "source": [
    "y_test[y_pred>0.4].mean()"
   ]
  },
  {
   "cell_type": "code",
   "execution_count": 50,
   "id": "1f09061d-efbe-4248-872c-604ab540dcaa",
   "metadata": {},
   "outputs": [],
   "source": [
    "df_fi=pd.DataFrame()\n",
    "df_fi.index=x.columns\n",
    "df_fi.loc[:,'importance']=clf.feature_importances_"
   ]
  },
  {
   "cell_type": "code",
   "execution_count": 52,
   "id": "874e8253-1b69-4315-bde1-bb2ec388564e",
   "metadata": {},
   "outputs": [
    {
     "data": {
      "text/html": [
       "<div>\n",
       "<style scoped>\n",
       "    .dataframe tbody tr th:only-of-type {\n",
       "        vertical-align: middle;\n",
       "    }\n",
       "\n",
       "    .dataframe tbody tr th {\n",
       "        vertical-align: top;\n",
       "    }\n",
       "\n",
       "    .dataframe thead th {\n",
       "        text-align: right;\n",
       "    }\n",
       "</style>\n",
       "<table border=\"1\" class=\"dataframe\">\n",
       "  <thead>\n",
       "    <tr style=\"text-align: right;\">\n",
       "      <th></th>\n",
       "      <th>importance</th>\n",
       "    </tr>\n",
       "  </thead>\n",
       "  <tbody>\n",
       "    <tr>\n",
       "      <th>open_SP_Summaries_welch_rect_centroid</th>\n",
       "      <td>0.001178</td>\n",
       "    </tr>\n",
       "    <tr>\n",
       "      <th>low_SP_Summaries_welch_rect_centroid</th>\n",
       "      <td>0.001215</td>\n",
       "    </tr>\n",
       "    <tr>\n",
       "      <th>high_SP_Summaries_welch_rect_centroid</th>\n",
       "      <td>0.001234</td>\n",
       "    </tr>\n",
       "    <tr>\n",
       "      <th>close_SP_Summaries_welch_rect_centroid</th>\n",
       "      <td>0.001243</td>\n",
       "    </tr>\n",
       "    <tr>\n",
       "      <th>close_SC_FluctAnal_2_rsrangefit_50_1_logi_prop_r1</th>\n",
       "      <td>0.002548</td>\n",
       "    </tr>\n",
       "    <tr>\n",
       "      <th>...</th>\n",
       "      <td>...</td>\n",
       "    </tr>\n",
       "    <tr>\n",
       "      <th>low_DN_Spread_Std</th>\n",
       "      <td>0.022889</td>\n",
       "    </tr>\n",
       "    <tr>\n",
       "      <th>open_DN_Spread_Std</th>\n",
       "      <td>0.025367</td>\n",
       "    </tr>\n",
       "    <tr>\n",
       "      <th>high_DN_Spread_Std</th>\n",
       "      <td>0.025892</td>\n",
       "    </tr>\n",
       "    <tr>\n",
       "      <th>close_DN_Spread_Std</th>\n",
       "      <td>0.026281</td>\n",
       "    </tr>\n",
       "    <tr>\n",
       "      <th>volume_DN_Mean</th>\n",
       "      <td>0.028669</td>\n",
       "    </tr>\n",
       "  </tbody>\n",
       "</table>\n",
       "<p>120 rows × 1 columns</p>\n",
       "</div>"
      ],
      "text/plain": [
       "                                                   importance\n",
       "open_SP_Summaries_welch_rect_centroid                0.001178\n",
       "low_SP_Summaries_welch_rect_centroid                 0.001215\n",
       "high_SP_Summaries_welch_rect_centroid                0.001234\n",
       "close_SP_Summaries_welch_rect_centroid               0.001243\n",
       "close_SC_FluctAnal_2_rsrangefit_50_1_logi_prop_r1    0.002548\n",
       "...                                                       ...\n",
       "low_DN_Spread_Std                                    0.022889\n",
       "open_DN_Spread_Std                                   0.025367\n",
       "high_DN_Spread_Std                                   0.025892\n",
       "close_DN_Spread_Std                                  0.026281\n",
       "volume_DN_Mean                                       0.028669\n",
       "\n",
       "[120 rows x 1 columns]"
      ]
     },
     "execution_count": 52,
     "metadata": {},
     "output_type": "execute_result"
    }
   ],
   "source": [
    "df_fi.sort_values('importance')"
   ]
  },
  {
   "cell_type": "code",
   "execution_count": null,
   "id": "af07f3aa-aa93-4dc3-ab23-3e9a192d360c",
   "metadata": {},
   "outputs": [],
   "source": []
  }
 ],
 "metadata": {
  "kernelspec": {
   "display_name": "Python 3 (ipykernel)",
   "language": "python",
   "name": "python3"
  },
  "language_info": {
   "codemirror_mode": {
    "name": "ipython",
    "version": 3
   },
   "file_extension": ".py",
   "mimetype": "text/x-python",
   "name": "python",
   "nbconvert_exporter": "python",
   "pygments_lexer": "ipython3",
   "version": "3.9.12"
  }
 },
 "nbformat": 4,
 "nbformat_minor": 5
}
